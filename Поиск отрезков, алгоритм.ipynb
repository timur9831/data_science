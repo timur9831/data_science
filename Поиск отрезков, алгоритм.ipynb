{
 "cells": [
  {
   "cell_type": "code",
   "execution_count": null,
   "metadata": {},
   "outputs": [],
   "source": []
  },
  {
   "cell_type": "code",
   "execution_count": null,
   "metadata": {},
   "outputs": [],
   "source": [
    "x0 = int(input(\"Введите значение Х = \"))\n",
    "delta = 0.001\n",
    "iteration = 1\n",
    "f = lambda x: x ** 4 + 0 * x ** 3 + 7 * x ** 2 + 2 * x + 1\n",
    "g = lambda k: x0 + 2 ** (k - 1) * delta\n",
    "print((\" {0:.8s} || {1:.6s}  || {2:.8s} || {3:.5s}  || {4:.8s}\").format(\n",
    "    \"Итерация\", \"   a    \", \"  f(a)  \", \"  b  \", \"  f(b)  \"))\n",
    "k = 2\n",
    "a = 0\n",
    "b = 0\n",
    "while True:\n",
    "    if f(x0) > f(x0 + delta):\n",
    "        a = x0\n",
    "        x1 = x0 + delta\n",
    "\n",
    "        if f(g(k - 1)) <= f(g(k)):\n",
    "            if delta > 0:\n",
    "                b = g(k)\n",
    "                print((\"     {0:.0f}    || {1:.4f} || {2:.4f}   || {3:.4f} || {4:.4f}\").format(\n",
    "                    iteration-0, a, f(a), b, f(b)))\n",
    "                break\n",
    "            else:\n",
    "                a = g(k)\n",
    "                print((\"     {0:.0f}    || {1:.4f} || {2:.4f}   || {3:.4f} || {4:.4f}\").format(\n",
    "                    iteration-0, a, f(a), b, f(b)))\n",
    "                break\n",
    "        else:\n",
    "            if delta > 0:\n",
    "                a = g(k - 1)\n",
    "                k += 1\n",
    "\n",
    "            else:\n",
    "                b = g(k - 1)\n",
    "                k += 1\n",
    "\n",
    "    else:\n",
    "        if f(x0 - delta) >= f(x0):\n",
    "            a = x0 - delta\n",
    "            b = x0 + delta\n",
    "            break\n",
    "        else:\n",
    "            b = x0\n",
    "            x1 = x0 - delta\n",
    "            delta = - delta\n",
    "            k = 2\n",
    "    iteration += 1\n",
    "    print((\"     {0:.0f}    || {1:.4f} || {2:.4f}   || {3:.4f} || {4:.4f}\").format(\n",
    "        iteration-1, a, f(a), b, f(b)))\n",
    "\n",
    "print (\"Использовав алгоритм для поиска отрезка локализации минимума получаем отрезок от точки a =\", a\n",
    "       , \"до точки b =\", b, \"найденный за \", iteration, \"итераций\")"
   ]
  },
  {
   "cell_type": "code",
   "execution_count": null,
   "metadata": {},
   "outputs": [],
   "source": [
    "import math\n",
    "A3 = 0\n",
    "A2 = 7\n",
    "A1 = 2\n",
    "A0 = 1\n",
    "\n",
    "e = 0.0001\n",
    "T = (3 - math.sqrt(5)) / 2\n",
    "\n",
    "iteration = 1\n",
    "print((\" {0:.8s} || {1:.6s}  || {2:.8s} || {3:.5s}  || {4:.8s}\").format(\"Итерация\", \"   a    \", \"  f(a)  \", \"  b  \", \"  f(b)  \"))\n",
    "f = lambda x: x**4 + A3 * x**3 + A2 * x**2 + A1 * x + A0\n",
    "\n",
    "x1 = a + T * (b - a)\n",
    "x2 = a + b - x1     \n",
    "\n",
    "while (abs(b-a) > e):\n",
    "    if (f(x1) <= f(x2)):\n",
    "        b = x2\n",
    "        x2 = x1\n",
    "        x1 = a + b - x2\n",
    "    else:\n",
    "        a = x1\n",
    "        x1 = x2 \n",
    "        x2 = a + b - x1\n",
    "    iteration += 1\n",
    "    print((\"     {0:.0f}    || {1:.4f} || {2:.4f}   || {3:.4f} || {4:.4f}\").format(iteration-1, a, f(a), b, f(b)))\n",
    "\n",
    "  \n",
    "\n",
    "print (\"Значение оптимального X = \", (a+b)/2)\n",
    "print (\"Значение оптимального f(X) = \", f((a+b)/2))\n",
    "print (\"Количество итераций для достижения необходимой точности = \", iteration)\n"
   ]
  },
  {
   "cell_type": "code",
   "execution_count": null,
   "metadata": {},
   "outputs": [],
   "source": [
    "b"
   ]
  },
  {
   "cell_type": "code",
   "execution_count": null,
   "metadata": {},
   "outputs": [],
   "source": [
    "-8.2663*2"
   ]
  },
  {
   "cell_type": "code",
   "execution_count": null,
   "metadata": {},
   "outputs": [],
   "source": [
    "f(-6.384)"
   ]
  },
  {
   "cell_type": "code",
   "execution_count": null,
   "metadata": {},
   "outputs": [],
   "source": []
  },
  {
   "cell_type": "code",
   "execution_count": null,
   "metadata": {},
   "outputs": [],
   "source": []
  },
  {
   "cell_type": "code",
   "execution_count": null,
   "metadata": {},
   "outputs": [],
   "source": []
  },
  {
   "cell_type": "code",
   "execution_count": null,
   "metadata": {},
   "outputs": [],
   "source": []
  },
  {
   "cell_type": "code",
   "execution_count": null,
   "metadata": {},
   "outputs": [],
   "source": []
  }
 ],
 "metadata": {
  "kernelspec": {
   "display_name": "Python 3",
   "language": "python",
   "name": "python3"
  },
  "language_info": {
   "codemirror_mode": {
    "name": "ipython",
    "version": 3
   },
   "file_extension": ".py",
   "mimetype": "text/x-python",
   "name": "python",
   "nbconvert_exporter": "python",
   "pygments_lexer": "ipython3",
   "version": "3.7.1"
  }
 },
 "nbformat": 4,
 "nbformat_minor": 2
}
