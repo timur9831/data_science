{
 "cells": [
  {
   "cell_type": "markdown",
   "metadata": {},
   "source": [
    "# Метод секущих"
   ]
  },
  {
   "cell_type": "code",
   "execution_count": 15,
   "metadata": {},
   "outputs": [
    {
     "name": "stdout",
     "output_type": "stream",
     "text": [
      "Значение оптимального X =  -0.142038340109086\n",
      "Значение оптимального f(X) =  0.857554576397410\n",
      "Количество итераций для достижения необходимой точности =  50\n"
     ]
    }
   ],
   "source": [
    "from sympy import *\n",
    "a, b, z, x = symbols('a b z x')\n",
    "a = float(-3)\n",
    "b = float(2)\n",
    "e = 10**(-6)\n",
    "f = lambda x: x ** 4 + 0 * x ** 3 + 7 * x ** 2 + 2 * x + 1\n",
    "di = lambda y: diff(f(x)).subs(x, y)\n",
    "z = b - ((di(b) * (b - a)) / (di(b) - di(a)))\n",
    "step = 0\n",
    "\n",
    "if di(a) < 0 and di(b) > 0:\n",
    "    while abs(di(z)) > e:\n",
    "        if di(z) < 0:\n",
    "            a = z\n",
    "        else:\n",
    "            b = z\n",
    "        z = b - ((di(b) * (b - a)) / (di(b) - di(a)))\n",
    "        step += 1\n",
    "\n",
    "\n",
    "print (\"Значение оптимального X = \", z)\n",
    "print (\"Значение оптимального f(X) = \", f(z))\n",
    "print (\"Количество итераций для достижения необходимой точности = \", step)"
   ]
  },
  {
   "cell_type": "markdown",
   "metadata": {},
   "source": [
    "# Метод Ньютона"
   ]
  },
  {
   "cell_type": "code",
   "execution_count": 14,
   "metadata": {},
   "outputs": [
    {
     "name": "stdout",
     "output_type": "stream",
     "text": [
      "Значение оптимального X =  -0.142038396764236\n",
      "Количество итераций для достижения необходимой точности =  7\n"
     ]
    }
   ],
   "source": [
    "from sympy import *\n",
    "a, b, x, x0 = symbols('a b x x0')\n",
    "x0 = float(4)\n",
    "x1 = float(0)\n",
    "a = float(-5)\n",
    "b = float(8)\n",
    "e = 10**(-6)\n",
    "f = lambda x: x ** 4 + 0 * x ** 3 + 7 * x ** 2 + 2 * x + 1\n",
    "di = lambda y: diff(f(x)).subs(x, y)\n",
    "di2 = lambda y: diff(f(x),x,2).subs(x, y)\n",
    "step = 0\n",
    "\n",
    "while True:\n",
    "    x1 = x0 - (di(x0)/di2(x0))\n",
    "    dx = abs(x1 - x0)\n",
    "    x0 = x1\n",
    "    step += 1\n",
    "    if dx < e:\n",
    "        xopt = x1 \n",
    "        break\n",
    "    else: \n",
    "        continue\n",
    "    \n",
    "print (\"Значение оптимального X = \", xopt)\n",
    "print (\"Количество итераций для достижения необходимой точности = \", step)"
   ]
  }
 ],
 "metadata": {
  "kernelspec": {
   "display_name": "Python 3",
   "language": "python",
   "name": "python3"
  },
  "language_info": {
   "codemirror_mode": {
    "name": "ipython",
    "version": 3
   },
   "file_extension": ".py",
   "mimetype": "text/x-python",
   "name": "python",
   "nbconvert_exporter": "python",
   "pygments_lexer": "ipython3",
   "version": "3.7.1"
  }
 },
 "nbformat": 4,
 "nbformat_minor": 2
}
