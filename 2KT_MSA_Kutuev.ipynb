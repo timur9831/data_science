{
 "cells": [
  {
   "cell_type": "markdown",
   "metadata": {},
   "source": [
    "# Кт №2 Кутуев Тимур, Э-1613"
   ]
  },
  {
   "cell_type": "markdown",
   "metadata": {},
   "source": [
    "### Импорт библиотек"
   ]
  },
  {
   "cell_type": "code",
   "execution_count": 262,
   "metadata": {},
   "outputs": [],
   "source": [
    "import numpy as np\n",
    "import matplotlib.pyplot as plt\n",
    "import pandas as pd\n",
    "from sklearn.preprocessing import StandardScaler\n",
    "from scipy.cluster.hierarchy import dendrogram, linkage, fcluster\n",
    "from sklearn.decomposition import PCA\n",
    "pd.set_option('display.max_colwidth', 1500)\n",
    "from sympy import *\n",
    "import seaborn as sns\n",
    "%matplotlib inline"
   ]
  },
  {
   "cell_type": "markdown",
   "metadata": {},
   "source": [
    "### Чтение данных"
   ]
  },
  {
   "cell_type": "code",
   "execution_count": 287,
   "metadata": {},
   "outputs": [
    {
     "data": {
      "text/html": [
       "<div>\n",
       "<style scoped>\n",
       "    .dataframe tbody tr th:only-of-type {\n",
       "        vertical-align: middle;\n",
       "    }\n",
       "\n",
       "    .dataframe tbody tr th {\n",
       "        vertical-align: top;\n",
       "    }\n",
       "\n",
       "    .dataframe thead th {\n",
       "        text-align: right;\n",
       "    }\n",
       "</style>\n",
       "<table border=\"1\" class=\"dataframe\">\n",
       "  <thead>\n",
       "    <tr style=\"text-align: right;\">\n",
       "      <th></th>\n",
       "      <th>1</th>\n",
       "      <th>2</th>\n",
       "      <th>3</th>\n",
       "      <th>4</th>\n",
       "      <th>5</th>\n",
       "      <th>6</th>\n",
       "      <th>7</th>\n",
       "    </tr>\n",
       "    <tr>\n",
       "      <th>YEAR</th>\n",
       "      <th></th>\n",
       "      <th></th>\n",
       "      <th></th>\n",
       "      <th></th>\n",
       "      <th></th>\n",
       "      <th></th>\n",
       "      <th></th>\n",
       "    </tr>\n",
       "  </thead>\n",
       "  <tbody>\n",
       "    <tr>\n",
       "      <th>1982</th>\n",
       "      <td>4.2</td>\n",
       "      <td>13.3</td>\n",
       "      <td>-5.3</td>\n",
       "      <td>4.0</td>\n",
       "      <td>23.0</td>\n",
       "      <td>6.0</td>\n",
       "      <td>0.0</td>\n",
       "    </tr>\n",
       "    <tr>\n",
       "      <th>1983</th>\n",
       "      <td>1.0</td>\n",
       "      <td>7.8</td>\n",
       "      <td>-5.3</td>\n",
       "      <td>3.0</td>\n",
       "      <td>34.0</td>\n",
       "      <td>11.0</td>\n",
       "      <td>8.0</td>\n",
       "    </tr>\n",
       "    <tr>\n",
       "      <th>1984</th>\n",
       "      <td>2.9</td>\n",
       "      <td>11.4</td>\n",
       "      <td>-5.1</td>\n",
       "      <td>3.2</td>\n",
       "      <td>65.0</td>\n",
       "      <td>17.0</td>\n",
       "      <td>0.0</td>\n",
       "    </tr>\n",
       "    <tr>\n",
       "      <th>1985</th>\n",
       "      <td>1.6</td>\n",
       "      <td>10.2</td>\n",
       "      <td>-6.0</td>\n",
       "      <td>2.9</td>\n",
       "      <td>7.0</td>\n",
       "      <td>2.0</td>\n",
       "      <td>5.0</td>\n",
       "    </tr>\n",
       "    <tr>\n",
       "      <th>1986</th>\n",
       "      <td>-1.1</td>\n",
       "      <td>2.7</td>\n",
       "      <td>-9.0</td>\n",
       "      <td>1.5</td>\n",
       "      <td>22.0</td>\n",
       "      <td>5.0</td>\n",
       "      <td>24.0</td>\n",
       "    </tr>\n",
       "    <tr>\n",
       "      <th>1987</th>\n",
       "      <td>3.3</td>\n",
       "      <td>13.4</td>\n",
       "      <td>-7.3</td>\n",
       "      <td>2.7</td>\n",
       "      <td>46.0</td>\n",
       "      <td>15.0</td>\n",
       "      <td>2.0</td>\n",
       "    </tr>\n",
       "    <tr>\n",
       "      <th>1988</th>\n",
       "      <td>4.5</td>\n",
       "      <td>13.0</td>\n",
       "      <td>-2.9</td>\n",
       "      <td>3.7</td>\n",
       "      <td>89.0</td>\n",
       "      <td>22.0</td>\n",
       "      <td>4.0</td>\n",
       "    </tr>\n",
       "    <tr>\n",
       "      <th>1989</th>\n",
       "      <td>5.7</td>\n",
       "      <td>13.5</td>\n",
       "      <td>-2.7</td>\n",
       "      <td>5.2</td>\n",
       "      <td>92.0</td>\n",
       "      <td>16.0</td>\n",
       "      <td>0.0</td>\n",
       "    </tr>\n",
       "    <tr>\n",
       "      <th>1990</th>\n",
       "      <td>6.6</td>\n",
       "      <td>14.9</td>\n",
       "      <td>-0.6</td>\n",
       "      <td>5.5</td>\n",
       "      <td>131.0</td>\n",
       "      <td>29.0</td>\n",
       "      <td>0.0</td>\n",
       "    </tr>\n",
       "    <tr>\n",
       "      <th>1991</th>\n",
       "      <td>1.5</td>\n",
       "      <td>13.8</td>\n",
       "      <td>-7.2</td>\n",
       "      <td>2.6</td>\n",
       "      <td>80.0</td>\n",
       "      <td>18.0</td>\n",
       "      <td>14.0</td>\n",
       "    </tr>\n",
       "    <tr>\n",
       "      <th>1992</th>\n",
       "      <td>5.5</td>\n",
       "      <td>12.1</td>\n",
       "      <td>-3.6</td>\n",
       "      <td>4.5</td>\n",
       "      <td>46.0</td>\n",
       "      <td>9.0</td>\n",
       "      <td>2.0</td>\n",
       "    </tr>\n",
       "    <tr>\n",
       "      <th>1993</th>\n",
       "      <td>4.7</td>\n",
       "      <td>12.0</td>\n",
       "      <td>-3.0</td>\n",
       "      <td>5.1</td>\n",
       "      <td>14.0</td>\n",
       "      <td>6.0</td>\n",
       "      <td>0.0</td>\n",
       "    </tr>\n",
       "  </tbody>\n",
       "</table>\n",
       "</div>"
      ],
      "text/plain": [
       "        1     2    3    4      5     6     7\n",
       "YEAR                                        \n",
       "1982  4.2  13.3 -5.3  4.0   23.0   6.0   0.0\n",
       "1983  1.0   7.8 -5.3  3.0   34.0  11.0   8.0\n",
       "1984  2.9  11.4 -5.1  3.2   65.0  17.0   0.0\n",
       "1985  1.6  10.2 -6.0  2.9    7.0   2.0   5.0\n",
       "1986 -1.1   2.7 -9.0  1.5   22.0   5.0  24.0\n",
       "1987  3.3  13.4 -7.3  2.7   46.0  15.0   2.0\n",
       "1988  4.5  13.0 -2.9  3.7   89.0  22.0   4.0\n",
       "1989  5.7  13.5 -2.7  5.2   92.0  16.0   0.0\n",
       "1990  6.6  14.9 -0.6  5.5  131.0  29.0   0.0\n",
       "1991  1.5  13.8 -7.2  2.6   80.0  18.0  14.0\n",
       "1992  5.5  12.1 -3.6  4.5   46.0   9.0   2.0\n",
       "1993  4.7  12.0 -3.0  5.1   14.0   6.0   0.0"
      ]
     },
     "execution_count": 287,
     "metadata": {},
     "output_type": "execute_result"
    }
   ],
   "source": [
    "data = pd.read_fwf('clustfeb.dat', index_col='YEAR')\n",
    "data"
   ]
  },
  {
   "cell_type": "code",
   "execution_count": 288,
   "metadata": {},
   "outputs": [
    {
     "data": {
      "text/html": [
       "<div>\n",
       "<style scoped>\n",
       "    .dataframe tbody tr th:only-of-type {\n",
       "        vertical-align: middle;\n",
       "    }\n",
       "\n",
       "    .dataframe tbody tr th {\n",
       "        vertical-align: top;\n",
       "    }\n",
       "\n",
       "    .dataframe thead th {\n",
       "        text-align: right;\n",
       "    }\n",
       "</style>\n",
       "<table border=\"1\" class=\"dataframe\">\n",
       "  <thead>\n",
       "    <tr style=\"text-align: right;\">\n",
       "      <th></th>\n",
       "      <th>Mean_t</th>\n",
       "      <th>Max_t</th>\n",
       "      <th>Min_t</th>\n",
       "      <th>Soil_t</th>\n",
       "      <th>Month_rainfall</th>\n",
       "      <th>Max_rain_per_day</th>\n",
       "      <th>Days_with_snow</th>\n",
       "    </tr>\n",
       "    <tr>\n",
       "      <th>YEAR</th>\n",
       "      <th></th>\n",
       "      <th></th>\n",
       "      <th></th>\n",
       "      <th></th>\n",
       "      <th></th>\n",
       "      <th></th>\n",
       "      <th></th>\n",
       "    </tr>\n",
       "  </thead>\n",
       "  <tbody>\n",
       "    <tr>\n",
       "      <th>1982</th>\n",
       "      <td>4.2</td>\n",
       "      <td>13.3</td>\n",
       "      <td>-5.3</td>\n",
       "      <td>4.0</td>\n",
       "      <td>23.0</td>\n",
       "      <td>6.0</td>\n",
       "      <td>0.0</td>\n",
       "    </tr>\n",
       "    <tr>\n",
       "      <th>1983</th>\n",
       "      <td>1.0</td>\n",
       "      <td>7.8</td>\n",
       "      <td>-5.3</td>\n",
       "      <td>3.0</td>\n",
       "      <td>34.0</td>\n",
       "      <td>11.0</td>\n",
       "      <td>8.0</td>\n",
       "    </tr>\n",
       "    <tr>\n",
       "      <th>1984</th>\n",
       "      <td>2.9</td>\n",
       "      <td>11.4</td>\n",
       "      <td>-5.1</td>\n",
       "      <td>3.2</td>\n",
       "      <td>65.0</td>\n",
       "      <td>17.0</td>\n",
       "      <td>0.0</td>\n",
       "    </tr>\n",
       "    <tr>\n",
       "      <th>1985</th>\n",
       "      <td>1.6</td>\n",
       "      <td>10.2</td>\n",
       "      <td>-6.0</td>\n",
       "      <td>2.9</td>\n",
       "      <td>7.0</td>\n",
       "      <td>2.0</td>\n",
       "      <td>5.0</td>\n",
       "    </tr>\n",
       "    <tr>\n",
       "      <th>1986</th>\n",
       "      <td>-1.1</td>\n",
       "      <td>2.7</td>\n",
       "      <td>-9.0</td>\n",
       "      <td>1.5</td>\n",
       "      <td>22.0</td>\n",
       "      <td>5.0</td>\n",
       "      <td>24.0</td>\n",
       "    </tr>\n",
       "    <tr>\n",
       "      <th>1987</th>\n",
       "      <td>3.3</td>\n",
       "      <td>13.4</td>\n",
       "      <td>-7.3</td>\n",
       "      <td>2.7</td>\n",
       "      <td>46.0</td>\n",
       "      <td>15.0</td>\n",
       "      <td>2.0</td>\n",
       "    </tr>\n",
       "    <tr>\n",
       "      <th>1988</th>\n",
       "      <td>4.5</td>\n",
       "      <td>13.0</td>\n",
       "      <td>-2.9</td>\n",
       "      <td>3.7</td>\n",
       "      <td>89.0</td>\n",
       "      <td>22.0</td>\n",
       "      <td>4.0</td>\n",
       "    </tr>\n",
       "    <tr>\n",
       "      <th>1989</th>\n",
       "      <td>5.7</td>\n",
       "      <td>13.5</td>\n",
       "      <td>-2.7</td>\n",
       "      <td>5.2</td>\n",
       "      <td>92.0</td>\n",
       "      <td>16.0</td>\n",
       "      <td>0.0</td>\n",
       "    </tr>\n",
       "    <tr>\n",
       "      <th>1990</th>\n",
       "      <td>6.6</td>\n",
       "      <td>14.9</td>\n",
       "      <td>-0.6</td>\n",
       "      <td>5.5</td>\n",
       "      <td>131.0</td>\n",
       "      <td>29.0</td>\n",
       "      <td>0.0</td>\n",
       "    </tr>\n",
       "    <tr>\n",
       "      <th>1991</th>\n",
       "      <td>1.5</td>\n",
       "      <td>13.8</td>\n",
       "      <td>-7.2</td>\n",
       "      <td>2.6</td>\n",
       "      <td>80.0</td>\n",
       "      <td>18.0</td>\n",
       "      <td>14.0</td>\n",
       "    </tr>\n",
       "    <tr>\n",
       "      <th>1992</th>\n",
       "      <td>5.5</td>\n",
       "      <td>12.1</td>\n",
       "      <td>-3.6</td>\n",
       "      <td>4.5</td>\n",
       "      <td>46.0</td>\n",
       "      <td>9.0</td>\n",
       "      <td>2.0</td>\n",
       "    </tr>\n",
       "    <tr>\n",
       "      <th>1993</th>\n",
       "      <td>4.7</td>\n",
       "      <td>12.0</td>\n",
       "      <td>-3.0</td>\n",
       "      <td>5.1</td>\n",
       "      <td>14.0</td>\n",
       "      <td>6.0</td>\n",
       "      <td>0.0</td>\n",
       "    </tr>\n",
       "  </tbody>\n",
       "</table>\n",
       "</div>"
      ],
      "text/plain": [
       "      Mean_t  Max_t  Min_t  Soil_t  Month_rainfall  Max_rain_per_day  \\\n",
       "YEAR                                                                   \n",
       "1982     4.2   13.3   -5.3     4.0            23.0               6.0   \n",
       "1983     1.0    7.8   -5.3     3.0            34.0              11.0   \n",
       "1984     2.9   11.4   -5.1     3.2            65.0              17.0   \n",
       "1985     1.6   10.2   -6.0     2.9             7.0               2.0   \n",
       "1986    -1.1    2.7   -9.0     1.5            22.0               5.0   \n",
       "1987     3.3   13.4   -7.3     2.7            46.0              15.0   \n",
       "1988     4.5   13.0   -2.9     3.7            89.0              22.0   \n",
       "1989     5.7   13.5   -2.7     5.2            92.0              16.0   \n",
       "1990     6.6   14.9   -0.6     5.5           131.0              29.0   \n",
       "1991     1.5   13.8   -7.2     2.6            80.0              18.0   \n",
       "1992     5.5   12.1   -3.6     4.5            46.0               9.0   \n",
       "1993     4.7   12.0   -3.0     5.1            14.0               6.0   \n",
       "\n",
       "      Days_with_snow  \n",
       "YEAR                  \n",
       "1982             0.0  \n",
       "1983             8.0  \n",
       "1984             0.0  \n",
       "1985             5.0  \n",
       "1986            24.0  \n",
       "1987             2.0  \n",
       "1988             4.0  \n",
       "1989             0.0  \n",
       "1990             0.0  \n",
       "1991            14.0  \n",
       "1992             2.0  \n",
       "1993             0.0  "
      ]
     },
     "execution_count": 288,
     "metadata": {},
     "output_type": "execute_result"
    }
   ],
   "source": [
    "# Сменим названия наших колонок с цифр на что-то более значимое\n",
    "data = data.rename(columns={'1':\"Mean_t\", \"2\":\"Max_t\", \"3\":\"Min_t\", \"4\":\"Soil_t\", \"5\":\"Month_rainfall\", \"6\":\"Max_rain_per_day\", \"7\":\"Days_with_snow\"})\n",
    "data"
   ]
  },
  {
   "cell_type": "markdown",
   "metadata": {},
   "source": [
    "Год  - YEAR\n",
    "\n",
    "Средняя температура - Mean_t\n",
    "\n",
    "Максимальная температура - Max_t\n",
    "\n",
    "Минимальная температура - Min_t\n",
    "\n",
    "Средняя температура почвы (на глубине 10 см) - Soil_t\n",
    "\n",
    "Месячные осадки (мм) - Month_rainfall\n",
    "\n",
    "Максимальные осадки в день - Max_rain_per_day\n",
    "\n",
    "Количество снежных дней - Days_with_snow"
   ]
  },
  {
   "cell_type": "markdown",
   "metadata": {},
   "source": [
    "Можно посмотреть на корреляцию признаков. \n",
    "Для большей наглядности давайте взгянем на следующий график."
   ]
  },
  {
   "cell_type": "code",
   "execution_count": 289,
   "metadata": {
    "scrolled": false
   },
   "outputs": [
    {
     "data": {
      "text/plain": [
       "<seaborn.axisgrid.PairGrid at 0x22663b89e48>"
      ]
     },
     "execution_count": 289,
     "metadata": {},
     "output_type": "execute_result"
    },
    {
     "data": {
      "image/png": "[encoded data removed]",
      "text/plain": [
       "<Figure size 1260x1260 with 56 Axes>"
      ]
     },
     "metadata": {
      "needs_background": "light"
     },
     "output_type": "display_data"
    }
   ],
   "source": [
    "sns.pairplot(data) "
   ]
  },
  {
   "cell_type": "code",
   "execution_count": 290,
   "metadata": {},
   "outputs": [
    {
     "data": {
      "image/png": "[encoded data removed]",
      "text/plain": [
       "<Figure size 1080x1080 with 2 Axes>"
      ]
     },
     "metadata": {
      "needs_background": "light"
     },
     "output_type": "display_data"
    }
   ],
   "source": [
    "correlation = data.corr()\n",
    "plt.figure(figsize=(15,15))\n",
    "sns.heatmap(correlation, vmax=1, square=True,annot=True,cmap='cubehelix')\n",
    "\n",
    "plt.title('Correlation between different fearures')\n",
    "plt.show()"
   ]
  },
  {
   "cell_type": "markdown",
   "metadata": {},
   "source": [
    "Как мы видим на графике выше, наши признаки достаточно сильно коррелируют между собой. \n",
    "Самая большая корреляция (0,96) между Max_rain_per_day и Mounth_rainfall(Максимальное кол-во осадков в день и месячные осадки) и это достаточно логично. \n",
    "Средняя температура сильно коррелирует (0,93) со средней температурой почвы на глубине 10см, что тоже достаточно логично и реально. \n",
    "Есть так же сильная коррелияция  (0,93) между минимальной температурой и средней температурой почвы. В принципе, это логично, при повышении температуры, почва дольше прогревается чем воздух и может соответствовать минимальной температуре."
   ]
  },
  {
   "cell_type": "markdown",
   "metadata": {},
   "source": [
    "### Стандартизуем данные"
   ]
  },
  {
   "cell_type": "code",
   "execution_count": 334,
   "metadata": {
    "scrolled": true
   },
   "outputs": [
    {
     "data": {
      "text/plain": [
       "array([[ 0.38375347,  0.55873943, -0.20529492,  0.29059019, -0.85888404,\n",
       "        -0.92046849, -0.69828598, -0.42008403],\n",
       "       [-1.08985987, -1.15646068, -0.20529492, -0.55991768, -0.5549358 ,\n",
       "        -0.262991  ,  0.43790816, -0.42008403],\n",
       "       [-0.21490195, -0.03378424, -0.11731139, -0.38981611,  0.3016456 ,\n",
       "         0.525982  , -0.69828598, -0.42008403],\n",
       "       [-0.81355737, -0.40800972, -0.51323731, -0.64496847, -1.30099057,\n",
       "        -1.44645049,  0.01183536, -0.42008403],\n",
       "       [-2.05691863, -2.74691897, -1.83299039, -1.83567949, -0.8865157 ,\n",
       "        -1.05196399,  2.71029642,  2.94058818],\n",
       "       [-0.03070028,  0.58992489, -1.08513031, -0.81507004, -0.2233559 ,\n",
       "         0.262991  , -0.41423744, -0.42008403],\n",
       "       [ 0.52190473,  0.46518306,  0.85050754,  0.03543783,  0.9648054 ,\n",
       "         1.18345949, -0.13018891, -0.42008403],\n",
       "       [ 1.07450973,  0.62111034,  0.93849108,  1.31119964,  1.04770037,\n",
       "         0.3944865 , -0.69828598, -0.42008403],\n",
       "       [ 1.48896348,  1.05770674,  1.86231824,  1.566352  ,  2.12533504,\n",
       "         2.10392799, -0.69828598,  1.26025208],\n",
       "       [-0.85960778,  0.71466671, -1.04113854, -0.90012083,  0.71612047,\n",
       "         0.6574775 ,  1.29005375, -0.42008403],\n",
       "       [ 0.9824089 ,  0.18451395,  0.54256516,  0.71584413, -0.2233559 ,\n",
       "        -0.525982  , -0.41423744, -0.42008403],\n",
       "       [ 0.61400556,  0.1533285 ,  0.80651577,  1.22614885, -1.10756897,\n",
       "        -0.92046849, -0.69828598, -0.42008403]])"
      ]
     },
     "execution_count": 334,
     "metadata": {},
     "output_type": "execute_result"
    }
   ],
   "source": [
    "value_for_stand = data.values # Матрица значений\n",
    "standart_data = StandardScaler().fit_transform(value_for_stand) # Стандартизация\n",
    "standart_data"
   ]
  },
  {
   "cell_type": "markdown",
   "metadata": {},
   "source": [
    "### Кластерный анализ №1"
   ]
  },
  {
   "cell_type": "code",
   "execution_count": 292,
   "metadata": {},
   "outputs": [
    {
     "data": {
      "image/png": "[encoded data removed]",
      "text/plain": [
       "<Figure size 432x288 with 1 Axes>"
      ]
     },
     "metadata": {
      "needs_background": "light"
     },
     "output_type": "display_data"
    }
   ],
   "source": [
    "link = linkage(standart_data, 'ward', 'euclidean')\n",
    "dn = dendrogram(link, labels = data.index.tolist(), leaf_rotation=40.)"
   ]
  },
  {
   "cell_type": "code",
   "execution_count": 293,
   "metadata": {},
   "outputs": [
    {
     "data": {
      "image/png": "[encoded data removed]",
      "text/plain": [
       "<Figure size 432x288 with 1 Axes>"
      ]
     },
     "metadata": {
      "needs_background": "light"
     },
     "output_type": "display_data"
    }
   ],
   "source": [
    "# Каменистая осыпь\n",
    "dist = link[:, 2]\n",
    "dist_rev = dist[::-1]\n",
    "idxs = range(1, len(dist) + 1)\n",
    "plt.plot(idxs, dist_rev, marker='o')\n",
    "plt.title('Distance between merged clusters')\n",
    "plt.xlabel('Step')\n",
    "plt.ylabel('Distance');"
   ]
  },
  {
   "cell_type": "code",
   "execution_count": 294,
   "metadata": {},
   "outputs": [
    {
     "data": {
      "text/html": [
       "<div>\n",
       "<style scoped>\n",
       "    .dataframe tbody tr th:only-of-type {\n",
       "        vertical-align: middle;\n",
       "    }\n",
       "\n",
       "    .dataframe tbody tr th {\n",
       "        vertical-align: top;\n",
       "    }\n",
       "\n",
       "    .dataframe thead th {\n",
       "        text-align: right;\n",
       "    }\n",
       "</style>\n",
       "<table border=\"1\" class=\"dataframe\">\n",
       "  <thead>\n",
       "    <tr style=\"text-align: right;\">\n",
       "      <th></th>\n",
       "      <th>Mean_t</th>\n",
       "      <th>Max_t</th>\n",
       "      <th>Min_t</th>\n",
       "      <th>Soil_t</th>\n",
       "      <th>Month_rainfall</th>\n",
       "      <th>Max_rain_per_day</th>\n",
       "      <th>Days_with_snow</th>\n",
       "    </tr>\n",
       "    <tr>\n",
       "      <th>cluster</th>\n",
       "      <th></th>\n",
       "      <th></th>\n",
       "      <th></th>\n",
       "      <th></th>\n",
       "      <th></th>\n",
       "      <th></th>\n",
       "      <th></th>\n",
       "    </tr>\n",
       "  </thead>\n",
       "  <tbody>\n",
       "    <tr>\n",
       "      <th>1</th>\n",
       "      <td>5.6000</td>\n",
       "      <td>13.80</td>\n",
       "      <td>-2.066667</td>\n",
       "      <td>4.8</td>\n",
       "      <td>104.000</td>\n",
       "      <td>22.333333</td>\n",
       "      <td>1.333333</td>\n",
       "    </tr>\n",
       "    <tr>\n",
       "      <th>2</th>\n",
       "      <td>3.0875</td>\n",
       "      <td>11.75</td>\n",
       "      <td>-5.350000</td>\n",
       "      <td>3.5</td>\n",
       "      <td>39.375</td>\n",
       "      <td>10.500000</td>\n",
       "      <td>3.875000</td>\n",
       "    </tr>\n",
       "    <tr>\n",
       "      <th>3</th>\n",
       "      <td>-1.1000</td>\n",
       "      <td>2.70</td>\n",
       "      <td>-9.000000</td>\n",
       "      <td>1.5</td>\n",
       "      <td>22.000</td>\n",
       "      <td>5.000000</td>\n",
       "      <td>24.000000</td>\n",
       "    </tr>\n",
       "  </tbody>\n",
       "</table>\n",
       "</div>"
      ],
      "text/plain": [
       "         Mean_t  Max_t     Min_t  Soil_t  Month_rainfall  Max_rain_per_day  \\\n",
       "cluster                                                                      \n",
       "1        5.6000  13.80 -2.066667     4.8         104.000         22.333333   \n",
       "2        3.0875  11.75 -5.350000     3.5          39.375         10.500000   \n",
       "3       -1.1000   2.70 -9.000000     1.5          22.000          5.000000   \n",
       "\n",
       "         Days_with_snow  \n",
       "cluster                  \n",
       "1              1.333333  \n",
       "2              3.875000  \n",
       "3             24.000000  "
      ]
     },
     "execution_count": 294,
     "metadata": {},
     "output_type": "execute_result"
    }
   ],
   "source": [
    "data['cluster'] = fcluster(link, 3, criterion='maxclust')\n",
    "data.groupby('cluster').mean()"
   ]
  },
  {
   "cell_type": "code",
   "execution_count": 295,
   "metadata": {},
   "outputs": [
    {
     "data": {
      "text/html": [
       "<div>\n",
       "<style scoped>\n",
       "    .dataframe tbody tr th:only-of-type {\n",
       "        vertical-align: middle;\n",
       "    }\n",
       "\n",
       "    .dataframe tbody tr th {\n",
       "        vertical-align: top;\n",
       "    }\n",
       "\n",
       "    .dataframe thead th {\n",
       "        text-align: right;\n",
       "    }\n",
       "</style>\n",
       "<table border=\"1\" class=\"dataframe\">\n",
       "  <thead>\n",
       "    <tr style=\"text-align: right;\">\n",
       "      <th></th>\n",
       "      <th>Mean_t</th>\n",
       "      <th>Max_t</th>\n",
       "      <th>Min_t</th>\n",
       "      <th>Soil_t</th>\n",
       "      <th>Month_rainfall</th>\n",
       "      <th>Max_rain_per_day</th>\n",
       "      <th>Days_with_snow</th>\n",
       "    </tr>\n",
       "    <tr>\n",
       "      <th>cluster</th>\n",
       "      <th></th>\n",
       "      <th></th>\n",
       "      <th></th>\n",
       "      <th></th>\n",
       "      <th></th>\n",
       "      <th></th>\n",
       "      <th></th>\n",
       "    </tr>\n",
       "  </thead>\n",
       "  <tbody>\n",
       "    <tr>\n",
       "      <th>1</th>\n",
       "      <td>1.053565</td>\n",
       "      <td>0.984886</td>\n",
       "      <td>1.274101</td>\n",
       "      <td>0.964365</td>\n",
       "      <td>23.430749</td>\n",
       "      <td>6.506407</td>\n",
       "      <td>2.309401</td>\n",
       "    </tr>\n",
       "    <tr>\n",
       "      <th>2</th>\n",
       "      <td>1.640068</td>\n",
       "      <td>1.987101</td>\n",
       "      <td>1.525966</td>\n",
       "      <td>0.922729</td>\n",
       "      <td>25.025344</td>\n",
       "      <td>5.781745</td>\n",
       "      <td>4.969550</td>\n",
       "    </tr>\n",
       "    <tr>\n",
       "      <th>3</th>\n",
       "      <td>NaN</td>\n",
       "      <td>NaN</td>\n",
       "      <td>NaN</td>\n",
       "      <td>NaN</td>\n",
       "      <td>NaN</td>\n",
       "      <td>NaN</td>\n",
       "      <td>NaN</td>\n",
       "    </tr>\n",
       "  </tbody>\n",
       "</table>\n",
       "</div>"
      ],
      "text/plain": [
       "           Mean_t     Max_t     Min_t    Soil_t  Month_rainfall  \\\n",
       "cluster                                                           \n",
       "1        1.053565  0.984886  1.274101  0.964365       23.430749   \n",
       "2        1.640068  1.987101  1.525966  0.922729       25.025344   \n",
       "3             NaN       NaN       NaN       NaN             NaN   \n",
       "\n",
       "         Max_rain_per_day  Days_with_snow  \n",
       "cluster                                    \n",
       "1                6.506407        2.309401  \n",
       "2                5.781745        4.969550  \n",
       "3                     NaN             NaN  "
      ]
     },
     "execution_count": 295,
     "metadata": {},
     "output_type": "execute_result"
    }
   ],
   "source": [
    "data.groupby('cluster').std()"
   ]
  },
  {
   "cell_type": "code",
   "execution_count": 296,
   "metadata": {},
   "outputs": [
    {
     "data": {
      "text/plain": [
       "cluster\n",
       "1    3\n",
       "2    8\n",
       "3    1\n",
       "dtype: int64"
      ]
     },
     "execution_count": 296,
     "metadata": {},
     "output_type": "execute_result"
    }
   ],
   "source": [
    "data.groupby('cluster').size()"
   ]
  },
  {
   "cell_type": "markdown",
   "metadata": {},
   "source": [
    "Проведя кластерный анализ методом Варда, и посмотрев на дендрограмму мы решили выделить 4 кластера. \n",
    "\n",
    "В первый кластер вошло 3 года: 1988, 1989, 1990. Эти 3 года характеризуются большим кол-вом осадков и дождливых дней. Так же, эти 3 года являются самыми теплыми по погоде в феврале. \n",
    "\n",
    "Во второй кластер вошло 8 наблюдений: 1982, 1983, 1984, 1985, 1987, 1991, 1993, 1993.\n",
    "Эти наблюдения можно охарактеризовать как нормальные для февральской погоды. Были как и снежные, так и дождливые дни. \n",
    "\n",
    "В третий кластер попало одно наблюдение, 1986 год. В феврале данного года было большое кол-во снежных дней(24 из 28), соответсвенно в этом феврале средняя температура опустилась до -1.1 градуса и минимальная температура достигла -9 градусов."
   ]
  },
  {
   "cell_type": "markdown",
   "metadata": {},
   "source": [
    "### Кластерный анализ №2"
   ]
  },
  {
   "cell_type": "markdown",
   "metadata": {},
   "source": [
    "Давайте проведем еще один кластерный анализ, но уже другим методом и посмотрим на его результаты"
   ]
  },
  {
   "cell_type": "code",
   "execution_count": 297,
   "metadata": {},
   "outputs": [
    {
     "data": {
      "image/png": "[encoded data removed]",
      "text/plain": [
       "<Figure size 432x288 with 1 Axes>"
      ]
     },
     "metadata": {
      "needs_background": "light"
     },
     "output_type": "display_data"
    }
   ],
   "source": [
    "link = linkage(standart_data, 'average', 'cityblock')\n",
    "dn = dendrogram(link, labels = data.index.tolist(), leaf_rotation=75.)"
   ]
  },
  {
   "cell_type": "code",
   "execution_count": 298,
   "metadata": {},
   "outputs": [
    {
     "data": {
      "image/png": "[encoded data removed]",
      "text/plain": [
       "<Figure size 432x288 with 1 Axes>"
      ]
     },
     "metadata": {
      "needs_background": "light"
     },
     "output_type": "display_data"
    }
   ],
   "source": [
    "# Каменистая осыпь\n",
    "dist = link[:, 2]\n",
    "dist_rev = dist[::-1]\n",
    "idxs = range(1, len(dist) + 1)\n",
    "plt.plot(idxs, dist_rev, marker='o')\n",
    "plt.title('Distance between merged clusters')\n",
    "plt.xlabel('Step')\n",
    "plt.ylabel('Distance');"
   ]
  },
  {
   "cell_type": "code",
   "execution_count": 299,
   "metadata": {},
   "outputs": [
    {
     "data": {
      "text/html": [
       "<div>\n",
       "<style scoped>\n",
       "    .dataframe tbody tr th:only-of-type {\n",
       "        vertical-align: middle;\n",
       "    }\n",
       "\n",
       "    .dataframe tbody tr th {\n",
       "        vertical-align: top;\n",
       "    }\n",
       "\n",
       "    .dataframe thead th {\n",
       "        text-align: right;\n",
       "    }\n",
       "</style>\n",
       "<table border=\"1\" class=\"dataframe\">\n",
       "  <thead>\n",
       "    <tr style=\"text-align: right;\">\n",
       "      <th></th>\n",
       "      <th>Mean_t</th>\n",
       "      <th>Max_t</th>\n",
       "      <th>Min_t</th>\n",
       "      <th>Soil_t</th>\n",
       "      <th>Month_rainfall</th>\n",
       "      <th>Max_rain_per_day</th>\n",
       "      <th>Days_with_snow</th>\n",
       "    </tr>\n",
       "    <tr>\n",
       "      <th>cluster</th>\n",
       "      <th></th>\n",
       "      <th></th>\n",
       "      <th></th>\n",
       "      <th></th>\n",
       "      <th></th>\n",
       "      <th></th>\n",
       "      <th></th>\n",
       "    </tr>\n",
       "  </thead>\n",
       "  <tbody>\n",
       "    <tr>\n",
       "      <th>1</th>\n",
       "      <td>4.92</td>\n",
       "      <td>12.78</td>\n",
       "      <td>-3.50</td>\n",
       "      <td>4.50</td>\n",
       "      <td>52.8</td>\n",
       "      <td>11.8</td>\n",
       "      <td>1.2</td>\n",
       "    </tr>\n",
       "    <tr>\n",
       "      <th>2</th>\n",
       "      <td>2.06</td>\n",
       "      <td>11.32</td>\n",
       "      <td>-6.18</td>\n",
       "      <td>2.88</td>\n",
       "      <td>46.4</td>\n",
       "      <td>12.6</td>\n",
       "      <td>5.8</td>\n",
       "    </tr>\n",
       "    <tr>\n",
       "      <th>3</th>\n",
       "      <td>6.60</td>\n",
       "      <td>14.90</td>\n",
       "      <td>-0.60</td>\n",
       "      <td>5.50</td>\n",
       "      <td>131.0</td>\n",
       "      <td>29.0</td>\n",
       "      <td>0.0</td>\n",
       "    </tr>\n",
       "    <tr>\n",
       "      <th>4</th>\n",
       "      <td>-1.10</td>\n",
       "      <td>2.70</td>\n",
       "      <td>-9.00</td>\n",
       "      <td>1.50</td>\n",
       "      <td>22.0</td>\n",
       "      <td>5.0</td>\n",
       "      <td>24.0</td>\n",
       "    </tr>\n",
       "  </tbody>\n",
       "</table>\n",
       "</div>"
      ],
      "text/plain": [
       "         Mean_t  Max_t  Min_t  Soil_t  Month_rainfall  Max_rain_per_day  \\\n",
       "cluster                                                                   \n",
       "1          4.92  12.78  -3.50    4.50            52.8              11.8   \n",
       "2          2.06  11.32  -6.18    2.88            46.4              12.6   \n",
       "3          6.60  14.90  -0.60    5.50           131.0              29.0   \n",
       "4         -1.10   2.70  -9.00    1.50            22.0               5.0   \n",
       "\n",
       "         Days_with_snow  \n",
       "cluster                  \n",
       "1                   1.2  \n",
       "2                   5.8  \n",
       "3                   0.0  \n",
       "4                  24.0  "
      ]
     },
     "execution_count": 299,
     "metadata": {},
     "output_type": "execute_result"
    }
   ],
   "source": [
    "data['cluster'] = fcluster(link, 4, criterion='maxclust')\n",
    "data.groupby('cluster').mean()"
   ]
  },
  {
   "cell_type": "code",
   "execution_count": 300,
   "metadata": {},
   "outputs": [
    {
     "data": {
      "text/plain": [
       "cluster\n",
       "1    5\n",
       "2    5\n",
       "3    1\n",
       "4    1\n",
       "dtype: int64"
      ]
     },
     "execution_count": 300,
     "metadata": {},
     "output_type": "execute_result"
    }
   ],
   "source": [
    "data.groupby('cluster').size()"
   ]
  },
  {
   "cell_type": "markdown",
   "metadata": {},
   "source": [
    "Итак, проведя анализ уже другим методом, мы получили другой результат. По-скольку метод Манхэттена \"устойчив\" к выбросам, он сразу выделил 2 года в отдельные кластеры. \n",
    "\n",
    "Как и в предыдущем анализе, мы получили кластер из 1986 года, аномального по кол-ву снежных дней и минимальной температуре.\n",
    "\n",
    "Однако, в этом анализе мы видим еще один аномальный год. Февраль 1990 года. Февраль этого года хар-тся как \"аномально\" теплым (максимальная температура 14.9 градусов) и максимально дождливым. Как мы видим, месячные осадки в этом месяце составили 131мм. \n",
    "\n",
    "Два оставшихся кластера особых различий не имеют по каким-то показателям, и их можно объединить в один и охарактеризовать как стандартные феврали. "
   ]
  },
  {
   "cell_type": "markdown",
   "metadata": {},
   "source": [
    "## Итоги №1 и №2 кластерного анализа"
   ]
  },
  {
   "cell_type": "markdown",
   "metadata": {},
   "source": [
    "На мой взгляд, второй кластерный анализ вышел более успешным. В первом кластерном анализе не был обнаружен выброс в виде 1990 года с его аномальными показателями, в связи с чем был неверно охарактеризован первый кластер. "
   ]
  },
  {
   "cell_type": "markdown",
   "metadata": {},
   "source": [
    "# Метод главных компонент"
   ]
  },
  {
   "cell_type": "code",
   "execution_count": 337,
   "metadata": {},
   "outputs": [
    {
     "name": "stdout",
     "output_type": "stream",
     "text": [
      "Матрица главных компонент \n",
      " [[-0.11628387  1.48052047  0.63025196]\n",
      " [ 1.64740639 -0.0582451  -0.550653  ]\n",
      " [-0.19886476 -0.38773982  0.43494419]\n",
      " [ 1.84292451  1.2825505   0.28737153]\n",
      " [ 5.0468728  -0.96519478 -1.10114756]\n",
      " [ 0.40505426 -0.2018227   1.44087842]\n",
      " [-1.4866791  -1.05437672 -0.11849377]\n",
      " [-2.33495465  0.05735439 -0.41951686]\n",
      " [-4.03164008 -1.39168075 -0.69835769]\n",
      " [ 0.93657301 -1.83059981  0.91211553]\n",
      " [-0.93216137  1.04548968 -0.32100916]\n",
      " [-0.77824714  2.02374463 -0.49638359]] \n",
      "\n",
      "Вектор средних:  \n",
      " [ 5.55111512e-17 -3.35379872e-16 -1.11022302e-16 -2.59052039e-16\n",
      " -1.48029737e-16 -9.25185854e-18 -1.85037171e-17] \n",
      "\n",
      "Вектор(матрица) проекции:  \n",
      " [[-0.43358215  0.17792986 -0.03614136]\n",
      " [-0.38521125  0.01115914  0.68528832]\n",
      " [-0.41331509  0.10595966 -0.50313951]\n",
      " [-0.4056677   0.2693316  -0.37975261]\n",
      " [-0.3193745  -0.59349332 -0.0959939 ]\n",
      " [-0.30378111 -0.61697982  0.05972638]\n",
      " [ 0.36597833 -0.38929559 -0.34486264]] \n",
      "\n",
      "Доля информации (доля от общей дисперсии):  \n",
      " [0.69126778 0.19707627 0.07285701] \n",
      "\n",
      "Процент потерянной информации = 3.9 % \n",
      "\n",
      "Кол-во переменных = 3\n"
     ]
    }
   ],
   "source": [
    "data = pd.read_fwf('clustfeb.dat', index_col='YEAR')\n",
    "data = data.rename(columns={'1':\"Mean_t\", \"2\":\"Max_t\", \"3\":\"Min_t\", \"4\":\"Soil_t\", \"5\":\"Month_rainfall\", \"6\":\"Max_rain_per_day\", \"7\":\"Days_with_snow\"})\n",
    "\n",
    "\n",
    "scaler = StandardScaler().fit_transform(data.values)\n",
    "pca = PCA(n_components=3 , svd_solver = 'full')\n",
    "\n",
    "print('Матрица главных компонент','\\n', pca.fit_transform(scaler),'\\n') \n",
    "print('Вектор средних: ','\\n' , pca.mean_,'\\n')\n",
    "print('Вектор(матрица) проекции: ', '\\n' , pca.components_.T,'\\n')\n",
    "print('Доля информации (доля от общей дисперсии): ','\\n' , \n",
    "      pca.explained_variance_ratio_,'\\n')\n",
    "print('Процент потерянной информации =', round(1-pca.explained_variance_ratio_.sum(),3)*100, \"%\",'\\n')\n",
    "print('Кол-во переменных =', pca.n_components_)"
   ]
  },
  {
   "cell_type": "code",
   "execution_count": 312,
   "metadata": {},
   "outputs": [
    {
     "data": {
      "image/png": "[encoded data removed]",
      "text/plain": [
       "<Figure size 432x288 with 1 Axes>"
      ]
     },
     "metadata": {
      "needs_background": "light"
     },
     "output_type": "display_data"
    }
   ],
   "source": [
    "link = linkage(pca.fit_transform(scaler), 'single', 'cityblock')\n",
    "dn = dendrogram(link, labels = data.index.tolist(), leaf_rotation=75.)"
   ]
  },
  {
   "cell_type": "code",
   "execution_count": 313,
   "metadata": {},
   "outputs": [
    {
     "data": {
      "image/png": "[encoded data removed]",
      "text/plain": [
       "<Figure size 432x288 with 1 Axes>"
      ]
     },
     "metadata": {
      "needs_background": "light"
     },
     "output_type": "display_data"
    }
   ],
   "source": [
    "# Каменистая осыпь\n",
    "dist = link[:, 2]\n",
    "dist_rev = dist[::-1]\n",
    "idxs = range(1, len(dist) + 1)\n",
    "plt.plot(idxs, dist_rev, marker='o')\n",
    "plt.title('Distance between merged clusters')\n",
    "plt.xlabel('Step')\n",
    "plt.ylabel('Distance');"
   ]
  },
  {
   "cell_type": "code",
   "execution_count": 329,
   "metadata": {},
   "outputs": [
    {
     "data": {
      "text/html": [
       "<div>\n",
       "<style scoped>\n",
       "    .dataframe tbody tr th:only-of-type {\n",
       "        vertical-align: middle;\n",
       "    }\n",
       "\n",
       "    .dataframe tbody tr th {\n",
       "        vertical-align: top;\n",
       "    }\n",
       "\n",
       "    .dataframe thead th {\n",
       "        text-align: right;\n",
       "    }\n",
       "</style>\n",
       "<table border=\"1\" class=\"dataframe\">\n",
       "  <thead>\n",
       "    <tr style=\"text-align: right;\">\n",
       "      <th></th>\n",
       "      <th>Mean_t</th>\n",
       "      <th>Max_t</th>\n",
       "      <th>Min_t</th>\n",
       "      <th>Soil_t</th>\n",
       "      <th>Month_rainfall</th>\n",
       "      <th>Max_rain_per_day</th>\n",
       "      <th>Days_with_snow</th>\n",
       "    </tr>\n",
       "    <tr>\n",
       "      <th>cluster</th>\n",
       "      <th></th>\n",
       "      <th></th>\n",
       "      <th></th>\n",
       "      <th></th>\n",
       "      <th></th>\n",
       "      <th></th>\n",
       "      <th></th>\n",
       "    </tr>\n",
       "  </thead>\n",
       "  <tbody>\n",
       "    <tr>\n",
       "      <th>1</th>\n",
       "      <td>3.49</td>\n",
       "      <td>12.05</td>\n",
       "      <td>-4.84</td>\n",
       "      <td>3.69</td>\n",
       "      <td>49.6</td>\n",
       "      <td>12.2</td>\n",
       "      <td>3.5</td>\n",
       "    </tr>\n",
       "    <tr>\n",
       "      <th>2</th>\n",
       "      <td>6.60</td>\n",
       "      <td>14.90</td>\n",
       "      <td>-0.60</td>\n",
       "      <td>5.50</td>\n",
       "      <td>131.0</td>\n",
       "      <td>29.0</td>\n",
       "      <td>0.0</td>\n",
       "    </tr>\n",
       "    <tr>\n",
       "      <th>3</th>\n",
       "      <td>-1.10</td>\n",
       "      <td>2.70</td>\n",
       "      <td>-9.00</td>\n",
       "      <td>1.50</td>\n",
       "      <td>22.0</td>\n",
       "      <td>5.0</td>\n",
       "      <td>24.0</td>\n",
       "    </tr>\n",
       "  </tbody>\n",
       "</table>\n",
       "</div>"
      ],
      "text/plain": [
       "         Mean_t  Max_t  Min_t  Soil_t  Month_rainfall  Max_rain_per_day  \\\n",
       "cluster                                                                   \n",
       "1          3.49  12.05  -4.84    3.69            49.6              12.2   \n",
       "2          6.60  14.90  -0.60    5.50           131.0              29.0   \n",
       "3         -1.10   2.70  -9.00    1.50            22.0               5.0   \n",
       "\n",
       "         Days_with_snow  \n",
       "cluster                  \n",
       "1                   3.5  \n",
       "2                   0.0  \n",
       "3                  24.0  "
      ]
     },
     "execution_count": 329,
     "metadata": {},
     "output_type": "execute_result"
    }
   ],
   "source": [
    "data['cluster'] = fcluster(link, 3, criterion='maxclust')\n",
    "data.groupby('cluster').mean()"
   ]
  },
  {
   "cell_type": "code",
   "execution_count": 330,
   "metadata": {},
   "outputs": [
    {
     "data": {
      "text/plain": [
       "cluster\n",
       "1    10\n",
       "2     1\n",
       "3     1\n",
       "dtype: int64"
      ]
     },
     "execution_count": 330,
     "metadata": {},
     "output_type": "execute_result"
    }
   ],
   "source": [
    "data.groupby('cluster').size()"
   ]
  },
  {
   "cell_type": "markdown",
   "metadata": {},
   "source": [
    "Вообще, кластерный анализ можно проводить когда число наблюдений не менее чем в два раза больше числа переменных, поэтому тут проводить кластерный анализ не совсем уместно. \n",
    "Проведя кластерный анализ, мы выделили 3 главные компоненты, и доля потерянной информации составила всего 3.9% что очень хорошо для нас, мы почти не потеряли информации! \n",
    "\n",
    "Проведя кластерный анализ по факторному, была получена более точная картина(при выборе определнного метода). Мы сразу выделили 2 аномальных года, а остальные года отнесли к одному оббщему кластеру, который хар-тся стандартными характеристиками для февраля. "
   ]
  },
  {
   "cell_type": "markdown",
   "metadata": {},
   "source": [
    "### Чуть-чуть графиков"
   ]
  },
  {
   "cell_type": "markdown",
   "metadata": {},
   "source": [
    "Давайте посмотрим на нормальность распределения наших переменных. "
   ]
  },
  {
   "cell_type": "code",
   "execution_count": 306,
   "metadata": {},
   "outputs": [
    {
     "data": {
      "image/png": "[encoded data removed]",
      "text/plain": [
       "<Figure size 432x288 with 1 Axes>"
      ]
     },
     "metadata": {
      "needs_background": "light"
     },
     "output_type": "display_data"
    }
   ],
   "source": [
    "data = pd.read_fwf('clustfeb.dat', index_col='YEAR')\n",
    "data = data.rename(columns={'1':\"Mean_t\", \"2\":\"Max_t\", \"3\":\"Min_t\", \"4\":\"Soil_t\", \"5\":\"Month_rainfall\", \"6\":\"Max_rain_per_day\", \"7\":\"Days_with_snow\"})\n",
    "\n",
    "for column in data:\n",
    "    sns.distplot(data[column] , kde_kws={ \"label\":column})"
   ]
  },
  {
   "cell_type": "markdown",
   "metadata": {},
   "source": [
    "Выкинем переменную из-за которой наш график так сильно распозается и отразим ее отдельно."
   ]
  },
  {
   "cell_type": "code",
   "execution_count": 308,
   "metadata": {},
   "outputs": [
    {
     "data": {
      "text/plain": [
       "<matplotlib.axes._subplots.AxesSubplot at 0x2265faccb70>"
      ]
     },
     "execution_count": 308,
     "metadata": {},
     "output_type": "execute_result"
    },
    {
     "data": {
      "image/png": "[encoded data removed]",
      "text/plain": [
       "<Figure size 432x288 with 1 Axes>"
      ]
     },
     "metadata": {
      "needs_background": "light"
     },
     "output_type": "display_data"
    }
   ],
   "source": [
    "sns.distplot(data['Month_rainfall'])"
   ]
  },
  {
   "cell_type": "code",
   "execution_count": 310,
   "metadata": {},
   "outputs": [
    {
     "data": {
      "image/png": "[encoded data removed]",
      "text/plain": [
       "<Figure size 432x288 with 1 Axes>"
      ]
     },
     "metadata": {
      "needs_background": "light"
     },
     "output_type": "display_data"
    }
   ],
   "source": [
    "data_without_rainfall = data.drop(columns = 'Month_rainfall')\n",
    "for column in data_without_rainfall:\n",
    "    sns.distplot(data_without_rainfall[column] , kde_kws={ \"label\":column})"
   ]
  },
  {
   "cell_type": "markdown",
   "metadata": {},
   "source": [
    "В целом, наши данные данные распределены нормально, так что анализ проведенный выше, можно считать состоявшимся"
   ]
  },
  {
   "cell_type": "code",
   "execution_count": 332,
   "metadata": {},
   "outputs": [
    {
     "data": {
      "text/html": [
       "<div>\n",
       "<style scoped>\n",
       "    .dataframe tbody tr th:only-of-type {\n",
       "        vertical-align: middle;\n",
       "    }\n",
       "\n",
       "    .dataframe tbody tr th {\n",
       "        vertical-align: top;\n",
       "    }\n",
       "\n",
       "    .dataframe thead th {\n",
       "        text-align: right;\n",
       "    }\n",
       "</style>\n",
       "<table border=\"1\" class=\"dataframe\">\n",
       "  <thead>\n",
       "    <tr style=\"text-align: right;\">\n",
       "      <th></th>\n",
       "      <th>PC1</th>\n",
       "      <th>PC2</th>\n",
       "      <th>PC3</th>\n",
       "      <th>Type</th>\n",
       "    </tr>\n",
       "  </thead>\n",
       "  <tbody>\n",
       "    <tr>\n",
       "      <th>0</th>\n",
       "      <td>-0.116284</td>\n",
       "      <td>1.480520</td>\n",
       "      <td>0.630252</td>\n",
       "      <td>1</td>\n",
       "    </tr>\n",
       "    <tr>\n",
       "      <th>1</th>\n",
       "      <td>1.647406</td>\n",
       "      <td>-0.058245</td>\n",
       "      <td>-0.550653</td>\n",
       "      <td>1</td>\n",
       "    </tr>\n",
       "    <tr>\n",
       "      <th>2</th>\n",
       "      <td>-0.198865</td>\n",
       "      <td>-0.387740</td>\n",
       "      <td>0.434944</td>\n",
       "      <td>1</td>\n",
       "    </tr>\n",
       "    <tr>\n",
       "      <th>3</th>\n",
       "      <td>1.842925</td>\n",
       "      <td>1.282550</td>\n",
       "      <td>0.287372</td>\n",
       "      <td>1</td>\n",
       "    </tr>\n",
       "    <tr>\n",
       "      <th>4</th>\n",
       "      <td>5.046873</td>\n",
       "      <td>-0.965195</td>\n",
       "      <td>-1.101148</td>\n",
       "      <td>3</td>\n",
       "    </tr>\n",
       "    <tr>\n",
       "      <th>5</th>\n",
       "      <td>0.405054</td>\n",
       "      <td>-0.201823</td>\n",
       "      <td>1.440878</td>\n",
       "      <td>1</td>\n",
       "    </tr>\n",
       "    <tr>\n",
       "      <th>6</th>\n",
       "      <td>-1.486679</td>\n",
       "      <td>-1.054377</td>\n",
       "      <td>-0.118494</td>\n",
       "      <td>1</td>\n",
       "    </tr>\n",
       "    <tr>\n",
       "      <th>7</th>\n",
       "      <td>-2.334955</td>\n",
       "      <td>0.057354</td>\n",
       "      <td>-0.419517</td>\n",
       "      <td>1</td>\n",
       "    </tr>\n",
       "    <tr>\n",
       "      <th>8</th>\n",
       "      <td>-4.031640</td>\n",
       "      <td>-1.391681</td>\n",
       "      <td>-0.698358</td>\n",
       "      <td>2</td>\n",
       "    </tr>\n",
       "    <tr>\n",
       "      <th>9</th>\n",
       "      <td>0.936573</td>\n",
       "      <td>-1.830600</td>\n",
       "      <td>0.912116</td>\n",
       "      <td>1</td>\n",
       "    </tr>\n",
       "    <tr>\n",
       "      <th>10</th>\n",
       "      <td>-0.932161</td>\n",
       "      <td>1.045490</td>\n",
       "      <td>-0.321009</td>\n",
       "      <td>1</td>\n",
       "    </tr>\n",
       "    <tr>\n",
       "      <th>11</th>\n",
       "      <td>-0.778247</td>\n",
       "      <td>2.023745</td>\n",
       "      <td>-0.496384</td>\n",
       "      <td>1</td>\n",
       "    </tr>\n",
       "  </tbody>\n",
       "</table>\n",
       "</div>"
      ],
      "text/plain": [
       "         PC1       PC2       PC3  Type\n",
       "0  -0.116284  1.480520  0.630252     1\n",
       "1   1.647406 -0.058245 -0.550653     1\n",
       "2  -0.198865 -0.387740  0.434944     1\n",
       "3   1.842925  1.282550  0.287372     1\n",
       "4   5.046873 -0.965195 -1.101148     3\n",
       "5   0.405054 -0.201823  1.440878     1\n",
       "6  -1.486679 -1.054377 -0.118494     1\n",
       "7  -2.334955  0.057354 -0.419517     1\n",
       "8  -4.031640 -1.391681 -0.698358     2\n",
       "9   0.936573 -1.830600  0.912116     1\n",
       "10 -0.932161  1.045490 -0.321009     1\n",
       "11 -0.778247  2.023745 -0.496384     1"
      ]
     },
     "execution_count": 332,
     "metadata": {},
     "output_type": "execute_result"
    }
   ],
   "source": [
    "ex_2 = pd.DataFrame(pca.fit_transform(scaler), columns=['PC1', 'PC2', 'PC3'])\n",
    "ex_2['Type'] = data.cluster.values\n",
    "ex_2\n"
   ]
  },
  {
   "cell_type": "code",
   "execution_count": 339,
   "metadata": {},
   "outputs": [
    {
     "data": {
      "text/plain": [
       "<seaborn.axisgrid.PairGrid at 0x226634fae80>"
      ]
     },
     "execution_count": 339,
     "metadata": {},
     "output_type": "execute_result"
    },
    {
     "data": {
      "image/png": "[encoded data removed]",
      "text/plain": [
       "<Figure size 330.375x288 with 1 Axes>"
      ]
     },
     "metadata": {
      "needs_background": "light"
     },
     "output_type": "display_data"
    }
   ],
   "source": [
    "sns.pairplot(x_vars=['PC1'], y_vars=['PC2'], data=ex_2, hue=\"Type\",  height=4)"
   ]
  },
  {
   "cell_type": "code",
   "execution_count": null,
   "metadata": {},
   "outputs": [],
   "source": []
  }
 ],
 "metadata": {
  "kernelspec": {
   "display_name": "Python 3",
   "language": "python",
   "name": "python3"
  },
  "language_info": {
   "codemirror_mode": {
    "name": "ipython",
    "version": 3
   },
   "file_extension": ".py",
   "mimetype": "text/x-python",
   "name": "python",
   "nbconvert_exporter": "python",
   "pygments_lexer": "ipython3",
   "version": "3.7.3"
  }
 },
 "nbformat": 4,
 "nbformat_minor": 2
}
