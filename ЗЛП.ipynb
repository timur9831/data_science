{
 "cells": [
  {
   "cell_type": "markdown",
   "metadata": {},
   "source": [
    "# Задача линейного программирования"
   ]
  },
  {
   "cell_type": "code",
   "execution_count": 20,
   "metadata": {},
   "outputs": [
    {
     "name": "stdout",
     "output_type": "stream",
     "text": [
      "     fun: -150.0\n",
      " message: 'Optimization terminated successfully.'\n",
      "     nit: 2\n",
      "   slack: array([  0., 200.,   0.])\n",
      "  status: 0\n",
      " success: True\n",
      "       x: array([ 0., 30., 10.,  0.])\n",
      "Время :\n",
      "0.0025069713592529297\n"
     ]
    }
   ],
   "source": [
    "from scipy.optimize import linprog\n",
    "import time\n",
    "start = time.time()\n",
    "c = [-3,-4,-3,-1] \n",
    "b_ub = [80,480,130] \n",
    "A_ub = [[7,2,2,6], \n",
    "        [5,8,4,3],\n",
    "        [2,4,1,8]] \n",
    "print (linprog(c, A_ub, b_ub))\n",
    "stop = time.time()\n",
    "print (\"Время :\")\n",
    "print(stop - start)"
   ]
  },
  {
   "cell_type": "markdown",
   "metadata": {},
   "source": [
    "Данная функция по умолчанию ищет минимум функции, соответственно нужно сделать коэффициенты целевой функции были отрицательными. Таким образом, максимум функции будет равен 150. x2 = 30, x3 = 10."
   ]
  },
  {
   "cell_type": "code",
   "execution_count": 22,
   "metadata": {},
   "outputs": [],
   "source": [
    "x1 = 40\n",
    "x2 = 42\n",
    "x3 = 37\n",
    "x4 = x1 * 0.7 + x2 * 0.3\n",
    "x5 = x1 * 0.6 + x3 * 0.4\n",
    "x6 = x1 * 0.5 + x2 * 0.2 + x3 * 0.3"
   ]
  },
  {
   "cell_type": "code",
   "execution_count": 23,
   "metadata": {},
   "outputs": [
    {
     "name": "stdout",
     "output_type": "stream",
     "text": [
      "40 42 37 40.6 38.8 39.5\n"
     ]
    }
   ],
   "source": [
    "print (x1, x2, x3, x4, x5, x6)"
   ]
  },
  {
   "cell_type": "code",
   "execution_count": null,
   "metadata": {},
   "outputs": [],
   "source": []
  },
  {
   "cell_type": "code",
   "execution_count": null,
   "metadata": {},
   "outputs": [],
   "source": []
  },
  {
   "cell_type": "markdown",
   "metadata": {},
   "source": [
    "# Решение транспортной задачи"
   ]
  },
  {
   "cell_type": "code",
   "execution_count": 6,
   "metadata": {},
   "outputs": [
    {
     "name": "stdout",
     "output_type": "stream",
     "text": [
      "     fun: 3450.0\n",
      " message: 'Optimization terminated successfully.'\n",
      "     nit: 15\n",
      "   slack: array([0., 0., 0.])\n",
      "  status: 0\n",
      " success: True\n",
      "       x: array([100.,   0.,   0.,   0., 100.,   0.,   0., 200., 250.,   0.,   0.,\n",
      "       125., 125.,   0.,   0.])\n",
      "Время :\n",
      "0.010025978088378906\n"
     ]
    }
   ],
   "source": [
    "from scipy.optimize import linprog\n",
    "import time\n",
    "start = time.time()\n",
    "c = [5,8,7,10,3,4,2,2,5,6,7,3,5,9,2]\n",
    "b_ub = [200,450,250] \n",
    "A_ub = [[1,1,1,1,1,0,0,0,0,0,0,0,0,0,0],\n",
    "               [0,0,0,0,0,1,1,1,1,1,0,0,0,0,0],\n",
    "               [0,0,0,0,0,0,0,0,0,0,1,1,1,1,1]] \n",
    "b_eq = [100,125,325,250,100] \n",
    "A_eq = [[1,0,0,0,0,1,0,0,0,0,1,0,0,0,0],\n",
    "               [0,1,0,0,0,0,1,0,0,0,0,1,0,0,0],\n",
    "               [0,0,1,0,0,0,0,1,0,0,0,0,1,0,0],\n",
    "               [0,0,0,1,0,0,0,0,1,0,0,0,0,1,0],\n",
    "               [0,0,0,0,1,0,0,0,0,1,0,0,0,0,1]] \n",
    "print(linprog(c, A_ub, b_ub, A_eq, b_eq))\n",
    "stop = time.time()\n",
    "print (\"Время :\")\n",
    "print(stop - start)"
   ]
  },
  {
   "cell_type": "code",
   "execution_count": 7,
   "metadata": {},
   "outputs": [
    {
     "name": "stdout",
     "output_type": "stream",
     "text": [
      "     fun: 3450.0\n",
      " message: 'Optimization terminated successfully.'\n",
      "     nit: 15\n",
      "   slack: array([0., 0., 0.])\n",
      "  status: 0\n",
      " success: True\n",
      "       x: array([100.,   0.,   0.,   0., 100.,   0.,   0., 200., 250.,   0.,   0.,\n",
      "       125., 125.,   0.,   0.])\n",
      "Время :\n",
      "0.009024381637573242\n"
     ]
    }
   ],
   "source": [
    "from scipy.optimize import linprog\n",
    "import time\n",
    "start = time.time()\n",
    "c = [3,4,9,18,9,6,\n",
    "    16,8,12,13,20,4,\n",
    "    8,6,13,1,6,9,\n",
    "    16,9,6,8,1,11,\n",
    "    8,12,17,5,3,5,\n",
    "    2,9,1,10,5,17]\n",
    "b_ub = [200,450,250] \n",
    "A_ub = [[1,1,1,1,1,0,0,0,0,0,0,0,0,0,0],\n",
    "               [0,0,0,0,0,1,1,1,1,1,0,0,0,0,0],\n",
    "               [0,0,0,0,0,0,0,0,0,0,1,1,1,1,1]] \n",
    "b_eq = [100,125,325,250,100] \n",
    "A_eq = [[1,0,0,0,0,1,0,0,0,0,1,0,0,0,0],\n",
    "               [0,1,0,0,0,0,1,0,0,0,0,1,0,0,0],\n",
    "               [0,0,1,0,0,0,0,1,0,0,0,0,1,0,0],\n",
    "               [0,0,0,1,0,0,0,0,1,0,0,0,0,1,0],\n",
    "               [0,0,0,0,1,0,0,0,0,1,0,0,0,0,1]] \n",
    "print(linprog(c, A_ub, b_ub, A_eq, b_eq))\n",
    "stop = time.time()\n",
    "print (\"Время :\")\n",
    "print(stop - start)"
   ]
  },
  {
   "cell_type": "code",
   "execution_count": 8,
   "metadata": {},
   "outputs": [
    {
     "ename": "AttributeError",
     "evalue": "module 'pip' has no attribute 'main'",
     "output_type": "error",
     "traceback": [
      "\u001b[1;31m---------------------------------------------------------------------------\u001b[0m",
      "\u001b[1;31mAttributeError\u001b[0m                            Traceback (most recent call last)",
      "\u001b[1;32m<ipython-input-8-c2d22568bf98>\u001b[0m in \u001b[0;36m<module>\u001b[1;34m()\u001b[0m\n\u001b[0;32m      1\u001b[0m \u001b[1;32mimport\u001b[0m \u001b[0mpip\u001b[0m\u001b[1;33m\u001b[0m\u001b[0m\n\u001b[1;32m----> 2\u001b[1;33m \u001b[0mpip\u001b[0m\u001b[1;33m.\u001b[0m\u001b[0mmain\u001b[0m\u001b[1;33m(\u001b[0m\u001b[1;33m[\u001b[0m\u001b[1;34m'install'\u001b[0m\u001b[1;33m,\u001b[0m \u001b[1;34m'scipy'\u001b[0m\u001b[1;33m]\u001b[0m\u001b[1;33m)\u001b[0m\u001b[1;33m\u001b[0m\u001b[0m\n\u001b[0m",
      "\u001b[1;31mAttributeError\u001b[0m: module 'pip' has no attribute 'main'"
     ]
    }
   ],
   "source": [
    "import pip\n",
    "pip.main(['install', 'scipy'])"
   ]
  },
  {
   "cell_type": "code",
   "execution_count": 9,
   "metadata": {},
   "outputs": [
    {
     "ename": "AttributeError",
     "evalue": "module 'pip' has no attribute 'main'",
     "output_type": "error",
     "traceback": [
      "\u001b[1;31m---------------------------------------------------------------------------\u001b[0m",
      "\u001b[1;31mAttributeError\u001b[0m                            Traceback (most recent call last)",
      "\u001b[1;32m<ipython-input-9-89663fe034dc>\u001b[0m in \u001b[0;36m<module>\u001b[1;34m()\u001b[0m\n\u001b[1;32m----> 1\u001b[1;33m \u001b[0mpip\u001b[0m\u001b[1;33m.\u001b[0m\u001b[0mmain\u001b[0m\u001b[1;33m(\u001b[0m\u001b[1;33m[\u001b[0m\u001b[1;34m'install'\u001b[0m\u001b[1;33m,\u001b[0m \u001b[1;34m'--user'\u001b[0m\u001b[1;33m,\u001b[0m \u001b[1;34m'scipy'\u001b[0m\u001b[1;33m]\u001b[0m\u001b[1;33m)\u001b[0m\u001b[1;33m\u001b[0m\u001b[0m\n\u001b[0m",
      "\u001b[1;31mAttributeError\u001b[0m: module 'pip' has no attribute 'main'"
     ]
    }
   ],
   "source": [
    "pip.main(['install', '--user', 'scipy'])"
   ]
  },
  {
   "cell_type": "code",
   "execution_count": 13,
   "metadata": {},
   "outputs": [],
   "source": []
  },
  {
   "cell_type": "code",
   "execution_count": 25,
   "metadata": {},
   "outputs": [
    {
     "name": "stdout",
     "output_type": "stream",
     "text": [
      "140\n"
     ]
    }
   ],
   "source": [
    "c=[1,2,3,4,5,6,7]\n",
    "x=[9,8,7,6,5,4,3]\n",
    "k=0\n",
    "\n",
    "for i in range(len(c)):\n",
    "    k += c[i]*x[i]\n",
    "print(k)"
   ]
  },
  {
   "cell_type": "code",
   "execution_count": null,
   "metadata": {},
   "outputs": [],
   "source": []
  },
  {
   "cell_type": "code",
   "execution_count": null,
   "metadata": {},
   "outputs": [],
   "source": []
  }
 ],
 "metadata": {
  "kernelspec": {
   "display_name": "Python 3",
   "language": "python",
   "name": "python3"
  },
  "language_info": {
   "codemirror_mode": {
    "name": "ipython",
    "version": 3
   },
   "file_extension": ".py",
   "mimetype": "text/x-python",
   "name": "python",
   "nbconvert_exporter": "python",
   "pygments_lexer": "ipython3",
   "version": "3.6.5"
  }
 },
 "nbformat": 4,
 "nbformat_minor": 2
}
