{
 "cells": [
  {
   "cell_type": "markdown",
   "metadata": {},
   "source": [
    "# Метод наискорейшего спуска"
   ]
  },
  {
   "cell_type": "code",
   "execution_count": 68,
   "metadata": {},
   "outputs": [
    {
     "name": "stdout",
     "output_type": "stream",
     "text": [
      "(0.743589856080340, 0.0256410119107485)\n",
      "3.87179487179490 5\n",
      "0.2848672866821289\n"
     ]
    }
   ],
   "source": [
    "from sympy import *\n",
    "import time\n",
    "x1, x2, x = symbols('x1 x2 x')\n",
    "e = 10**(-6)\n",
    "X = (1, 1)\n",
    "k = 0\n",
    "\n",
    "def f(x1, x2):\n",
    "    return 2 * x1**2 + 5 * x2**2 + x1 * x2 - 3 * x1 - x2 + 5\n",
    "\n",
    "def di_1(y, p):\n",
    "    return diff(f(x1, x2), x1).subs(x1,y).subs(x2,p)\n",
    "\n",
    "def di_2(y, p):\n",
    "    return diff(f(x1, x2), x2).subs(x1, y).subs(x2,p)\n",
    "\n",
    "def norm(x1, x2):\n",
    "    return ((x1**2)+(x2**2))**0.5\n",
    "\n",
    "def golden(func, a, b):\n",
    "    e = 10**(-6)\n",
    "    T = (3 - (5**0.5)) / 2\n",
    "    y1 = a + T * (b - a)\n",
    "    y2 = a + b - y1 \n",
    "    while (abs(b-a) > e):\n",
    "        if (func.subs(x,y1) <= func.subs(x,y2)):\n",
    "            b = y2\n",
    "            y2 = y1\n",
    "            y1 = a + b - y2\n",
    "        else:\n",
    "            a = y1\n",
    "            y1 = y2 \n",
    "            y2 = a + b - y1\n",
    "    return (a + b) / 2  \n",
    "\n",
    "start_time = time.time()\n",
    "\n",
    "while True:\n",
    "    if norm(di_1(X[0], X[1]), di_2(X[0], X[1])) < e:\n",
    "        print (X)\n",
    "        break\n",
    "    else:\n",
    "        z = (X[0] - x * di_1(X[0], X[1]), X[1] - x * di_2(X[0], X[1]))\n",
    "        alpha = golden(f(z[0],z[1]), -3, 5)\n",
    "        X = (X[0] - alpha * di_1(X[0], X[1]), X[1] - alpha * di_2(X[0], X[1]))\n",
    "    k += 1\n",
    "        \n",
    "        \n",
    "print (f(X[0],X[1]), k) \n",
    "print(time.time() - start_time)\n"
   ]
  },
  {
   "cell_type": "code",
   "execution_count": null,
   "metadata": {},
   "outputs": [],
   "source": []
  }
 ],
 "metadata": {
  "kernelspec": {
   "display_name": "Python 3",
   "language": "python",
   "name": "python3"
  },
  "language_info": {
   "codemirror_mode": {
    "name": "ipython",
    "version": 3
   },
   "file_extension": ".py",
   "mimetype": "text/x-python",
   "name": "python",
   "nbconvert_exporter": "python",
   "pygments_lexer": "ipython3",
   "version": "3.7.3"
  }
 },
 "nbformat": 4,
 "nbformat_minor": 2
}
